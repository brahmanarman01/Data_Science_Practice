{
  "nbformat": 4,
  "nbformat_minor": 0,
  "metadata": {
    "colab": {
      "provenance": [],
      "authorship_tag": "ABX9TyMC6kb3+rn0gpjDtt0rHzrt",
      "include_colab_link": true
    },
    "kernelspec": {
      "name": "python3",
      "display_name": "Python 3"
    },
    "language_info": {
      "name": "python"
    }
  },
  "cells": [
    {
      "cell_type": "markdown",
      "metadata": {
        "id": "view-in-github",
        "colab_type": "text"
      },
      "source": [
        "<a href=\"https://colab.research.google.com/github/brahmanarman01/Data_Science_Practice/blob/Numpy/numpy_array_manipulation.ipynb\" target=\"_parent\"><img src=\"https://colab.research.google.com/assets/colab-badge.svg\" alt=\"Open In Colab\"/></a>"
      ]
    },
    {
      "cell_type": "code",
      "execution_count": 1,
      "metadata": {
        "colab": {
          "base_uri": "https://localhost:8080/"
        },
        "id": "VEQYmzMUD1NX",
        "outputId": "2f755818-e7b1-4bb7-d9b6-1699254705fe"
      },
      "outputs": [
        {
          "output_type": "execute_result",
          "data": {
            "text/plain": [
              "array([[ 1,  2,  3],\n",
              "       [ 4,  5,  6],\n",
              "       [ 7,  8,  9],\n",
              "       [11, 12, 13]])"
            ]
          },
          "metadata": {},
          "execution_count": 1
        }
      ],
      "source": [
        "import numpy as np\n",
        "# Create a NumPy array with 4 rows and 3 columns\n",
        "arr = np.array([[1,2,3], [4,5,6], [7,8,9],[11,12,13]])\n",
        "# Display the array\n",
        "arr"
      ]
    },
    {
      "cell_type": "code",
      "source": [
        "# Flatten the array 'arr' into a 1-dimensional array\n",
        "flat = arr.flatten()\n",
        "# Display the flattened array\n",
        "flat"
      ],
      "metadata": {
        "colab": {
          "base_uri": "https://localhost:8080/"
        },
        "id": "qTNexqGFEIvp",
        "outputId": "f52077d9-99e7-4bf9-e5d9-442d7ae3c919"
      },
      "execution_count": 2,
      "outputs": [
        {
          "output_type": "execute_result",
          "data": {
            "text/plain": [
              "array([ 1,  2,  3,  4,  5,  6,  7,  8,  9, 11, 12, 13])"
            ]
          },
          "metadata": {},
          "execution_count": 2
        }
      ]
    },
    {
      "cell_type": "code",
      "source": [
        "# Access the element at index 0 of the flattened array 'flat'\n",
        "flat[0]"
      ],
      "metadata": {
        "colab": {
          "base_uri": "https://localhost:8080/"
        },
        "id": "THeliOIrELt0",
        "outputId": "7609446e-3d87-46c2-947c-e0a91e4a8af8"
      },
      "execution_count": 3,
      "outputs": [
        {
          "output_type": "execute_result",
          "data": {
            "text/plain": [
              "np.int64(1)"
            ]
          },
          "metadata": {},
          "execution_count": 3
        }
      ]
    },
    {
      "cell_type": "code",
      "source": [
        "# Slice the flattened array 'flat' to get elements from the beginning up to index 5 (exclusive)\n",
        "flat[:5]"
      ],
      "metadata": {
        "colab": {
          "base_uri": "https://localhost:8080/"
        },
        "id": "YI100rIAEOo4",
        "outputId": "5097ec71-5a1d-4af8-ff44-431fa641643f"
      },
      "execution_count": 4,
      "outputs": [
        {
          "output_type": "execute_result",
          "data": {
            "text/plain": [
              "array([1, 2, 3, 4, 5])"
            ]
          },
          "metadata": {},
          "execution_count": 4
        }
      ]
    },
    {
      "cell_type": "code",
      "source": [
        "# Slice the flattened array 'flat' to get elements from index 3 (inclusive) to the end\n",
        "flat[3:]"
      ],
      "metadata": {
        "colab": {
          "base_uri": "https://localhost:8080/"
        },
        "id": "G-CbNX0aESHL",
        "outputId": "e1336639-56a0-47de-ccd4-5f0372394736"
      },
      "execution_count": 5,
      "outputs": [
        {
          "output_type": "execute_result",
          "data": {
            "text/plain": [
              "array([ 4,  5,  6,  7,  8,  9, 11, 12, 13])"
            ]
          },
          "metadata": {},
          "execution_count": 5
        }
      ]
    },
    {
      "cell_type": "code",
      "source": [
        "# Slice the flattened array 'flat' to get elements from index 3 (inclusive) up to index 13 (exclusive)\n",
        "flat[3:13]"
      ],
      "metadata": {
        "colab": {
          "base_uri": "https://localhost:8080/"
        },
        "id": "eNy7DT4WEU3e",
        "outputId": "156f8bac-e3e3-45f2-8a3c-99209631b7f3"
      },
      "execution_count": 6,
      "outputs": [
        {
          "output_type": "execute_result",
          "data": {
            "text/plain": [
              "array([ 4,  5,  6,  7,  8,  9, 11, 12, 13])"
            ]
          },
          "metadata": {},
          "execution_count": 6
        }
      ]
    },
    {
      "cell_type": "code",
      "source": [
        "# Slice the flattened array 'flat' to get elements with a step of 2 (every other element)\n",
        "flat[::2]"
      ],
      "metadata": {
        "colab": {
          "base_uri": "https://localhost:8080/"
        },
        "id": "v5ffqz_3EYBD",
        "outputId": "f2365281-7345-43a9-e05b-7efa858f10c7"
      },
      "execution_count": 7,
      "outputs": [
        {
          "output_type": "execute_result",
          "data": {
            "text/plain": [
              "array([ 1,  3,  5,  7,  9, 12])"
            ]
          },
          "metadata": {},
          "execution_count": 7
        }
      ]
    },
    {
      "cell_type": "code",
      "source": [
        "# Slice the flattened array 'flat' from index 3 to 7 (exclusive) and create a copy\n",
        "b = flat[3:7].copy() ##+++++++++++++3.\n",
        "# Display the new array 'b'\n",
        "b"
      ],
      "metadata": {
        "colab": {
          "base_uri": "https://localhost:8080/"
        },
        "id": "Y5guOxS9EjEf",
        "outputId": "eacd1c1a-78db-4905-b3cb-aed4fcca6193"
      },
      "execution_count": 8,
      "outputs": [
        {
          "output_type": "execute_result",
          "data": {
            "text/plain": [
              "array([4, 5, 6, 7])"
            ]
          },
          "metadata": {},
          "execution_count": 8
        }
      ]
    },
    {
      "cell_type": "code",
      "source": [
        "# Change the element at index 0 of array 'b'\n",
        "b[0] = 4444666"
      ],
      "metadata": {
        "id": "fEg69JUpEnhC"
      },
      "execution_count": 9,
      "outputs": []
    },
    {
      "cell_type": "code",
      "source": [
        "# Display array 'b' after modification\n",
        "b"
      ],
      "metadata": {
        "colab": {
          "base_uri": "https://localhost:8080/"
        },
        "id": "AZeM4VmvEr4s",
        "outputId": "4a4efa90-b864-49af-bffe-510dd2862e60"
      },
      "execution_count": 10,
      "outputs": [
        {
          "output_type": "execute_result",
          "data": {
            "text/plain": [
              "array([4444666,       5,       6,       7])"
            ]
          },
          "metadata": {},
          "execution_count": 10
        }
      ]
    },
    {
      "cell_type": "code",
      "source": [
        "# Display the original flattened array 'flat' to show that changing 'b' did not affect 'flat' (because .copy() was used)\n",
        "flat"
      ],
      "metadata": {
        "colab": {
          "base_uri": "https://localhost:8080/"
        },
        "id": "Br4ZCRT0Euyz",
        "outputId": "a52fa80a-bf07-4de0-c67b-7952b8943c6c"
      },
      "execution_count": 11,
      "outputs": [
        {
          "output_type": "execute_result",
          "data": {
            "text/plain": [
              "array([ 1,  2,  3,  4,  5,  6,  7,  8,  9, 11, 12, 13])"
            ]
          },
          "metadata": {},
          "execution_count": 11
        }
      ]
    },
    {
      "cell_type": "code",
      "source": [
        "# Create a new NumPy array\n",
        "arr1 = np.array([1,54,23,2,3,4,30,5,6])\n",
        "# Use fancy indexing to select elements at indices 1, 4, and 6 from 'arr1'\n",
        "arr1[[1,4,6]]"
      ],
      "metadata": {
        "colab": {
          "base_uri": "https://localhost:8080/"
        },
        "id": "fwYe7tFRExle",
        "outputId": "a62da123-fa0a-4148-e48f-5b85fd594b9a"
      },
      "execution_count": 12,
      "outputs": [
        {
          "output_type": "execute_result",
          "data": {
            "text/plain": [
              "array([54,  3, 30])"
            ]
          },
          "metadata": {},
          "execution_count": 12
        }
      ]
    },
    {
      "cell_type": "code",
      "source": [
        "# Use boolean indexing to select elements from 'arr1' that are greater than 3\n",
        "arr1[arr1>3]"
      ],
      "metadata": {
        "colab": {
          "base_uri": "https://localhost:8080/"
        },
        "id": "yBCtibPKE1eg",
        "outputId": "be680d7a-e941-4d59-a416-24695d050f1c"
      },
      "execution_count": 13,
      "outputs": [
        {
          "output_type": "execute_result",
          "data": {
            "text/plain": [
              "array([54, 23,  4, 30,  5,  6])"
            ]
          },
          "metadata": {},
          "execution_count": 13
        }
      ]
    }
  ]
}