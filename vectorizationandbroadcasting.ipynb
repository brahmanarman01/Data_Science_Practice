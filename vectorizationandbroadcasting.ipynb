{
  "nbformat": 4,
  "nbformat_minor": 0,
  "metadata": {
    "colab": {
      "provenance": [],
      "authorship_tag": "ABX9TyO+o5PIZ34/8DCk0Xb45Hlb",
      "include_colab_link": true
    },
    "kernelspec": {
      "name": "python3",
      "display_name": "Python 3"
    },
    "language_info": {
      "name": "python"
    }
  },
  "cells": [
    {
      "cell_type": "markdown",
      "metadata": {
        "id": "view-in-github",
        "colab_type": "text"
      },
      "source": [
        "<a href=\"https://colab.research.google.com/github/brahmanarman01/Data_Science_Practice/blob/Numpy/vectorizationandbroadcasting.ipynb\" target=\"_parent\"><img src=\"https://colab.research.google.com/assets/colab-badge.svg\" alt=\"Open In Colab\"/></a>"
      ]
    },
    {
      "cell_type": "code",
      "execution_count": null,
      "metadata": {
        "colab": {
          "base_uri": "https://localhost:8080/"
        },
        "id": "jV-VoK4SnZAg",
        "outputId": "e332da48-e5b6-440d-bbc3-fd93ac3e73dd"
      },
      "outputs": [
        {
          "output_type": "stream",
          "name": "stdout",
          "text": [
            "[np.int64(1)]\n",
            "[np.int64(1), np.int64(4)]\n",
            "[np.int64(1), np.int64(4), np.int64(9)]\n",
            "[np.int64(1), np.int64(4), np.int64(9), np.int64(16)]\n",
            "[np.int64(1), np.int64(4), np.int64(9), np.int64(16), np.int64(25)]\n"
          ]
        }
      ],
      "source": [
        "# This cell demonstrates a slow way of squaring elements in a NumPy array using a Python loop.\n",
        "# looping array over python is slow means iteration is slow with large datasets\n",
        "import numpy as np\n",
        "arr=np.array([1,2,3,4,5])\n",
        "result=[]\n",
        "for num in arr:\n",
        "  result.append(num**2)\n",
        "  print(result)"
      ]
    },
    {
      "cell_type": "code",
      "source": [
        "# This cell demonstrates vectorization in NumPy for squaring elements in an array, which is faster than looping.\n",
        "# vectorization\n",
        "arr=np.array([1,2,3,4,5])\n",
        "result=arr**2\n",
        "print(result)"
      ],
      "metadata": {
        "colab": {
          "base_uri": "https://localhost:8080/"
        },
        "id": "fDj5LAotpqPL",
        "outputId": "02069f49-1de4-49cd-82f6-f3fb340073ed"
      },
      "execution_count": null,
      "outputs": [
        {
          "output_type": "stream",
          "name": "stdout",
          "text": [
            "[ 1  4  9 16 25]\n"
          ]
        }
      ]
    },
    {
      "cell_type": "code",
      "source": [
        "# This cell demonstrates adding a scalar value to each element of a NumPy array using broadcasting.\n",
        "result=arr+[1]\n",
        "result"
      ],
      "metadata": {
        "colab": {
          "base_uri": "https://localhost:8080/"
        },
        "id": "fTzGlCPxpxzr",
        "outputId": "e4e928a8-6dd5-4b60-f555-b13b3bf8b8f1"
      },
      "execution_count": null,
      "outputs": [
        {
          "output_type": "execute_result",
          "data": {
            "text/plain": [
              "array([2, 3, 4, 5, 6])"
            ]
          },
          "metadata": {},
          "execution_count": 8
        }
      ]
    },
    {
      "cell_type": "code",
      "source": [
        "# This cell demonstrates element-wise addition of two 1D NumPy arrays.\n",
        "import numpy  as np\n",
        "arr1=np.array([1,2,3])\n",
        "arr2=np.array([2,3,4])\n",
        "result=arr1+arr2\n",
        "result"
      ],
      "metadata": {
        "colab": {
          "base_uri": "https://localhost:8080/"
        },
        "id": "UtNsv91KseV5",
        "outputId": "3beb0bee-92c9-4222-cdce-ce2b150797e0"
      },
      "execution_count": null,
      "outputs": [
        {
          "output_type": "execute_result",
          "data": {
            "text/plain": [
              "array([3, 5, 7])"
            ]
          },
          "metadata": {},
          "execution_count": 11
        }
      ]
    },
    {
      "cell_type": "code",
      "source": [
        "import numpy  as np\n",
        "arr1=np.array([[1,2,3],[3,4,5]])\n",
        "arr2=np.array([2,3,4])\n",
        "result=arr1+arr2\n",
        "result\n"
      ],
      "metadata": {
        "colab": {
          "base_uri": "https://localhost:8080/"
        },
        "id": "Rb2C7k7tt_GZ",
        "outputId": "179082d4-8237-4893-cee9-592108135f19"
      },
      "execution_count": 15,
      "outputs": [
        {
          "output_type": "execute_result",
          "data": {
            "text/plain": [
              "array([[3, 5, 7],\n",
              "       [5, 7, 9]])"
            ]
          },
          "metadata": {},
          "execution_count": 15
        }
      ]
    },
    {
      "cell_type": "code",
      "source": [
        "# This cell creates and prints a 2D NumPy array named 'data'.\n",
        "# It contains three rows and four columns of numerical data.\n",
        "data = np.array([[1, 2, 3, 10],\n",
        "                 [4, 5, 6, 11],\n",
        "                 [7, 8, 9, 12]])\n",
        "print(data)"
      ],
      "metadata": {
        "colab": {
          "base_uri": "https://localhost:8080/"
        },
        "id": "mDYoKxa8zl2C",
        "outputId": "8b3ee272-bbff-4d65-ed2a-82da24e8e6fd"
      },
      "execution_count": 16,
      "outputs": [
        {
          "output_type": "stream",
          "name": "stdout",
          "text": [
            "[[ 1  2  3 10]\n",
            " [ 4  5  6 11]\n",
            " [ 7  8  9 12]]\n",
            "[2.44948974 2.44948974 2.44948974 0.81649658] this is mean\n",
            "[ 4.  5.  6. 11.] this is std\n",
            "[[-1.22474487 -1.22474487 -1.22474487 -1.22474487]\n",
            " [ 0.          0.          0.          0.        ]\n",
            " [ 1.22474487  1.22474487  1.22474487  1.22474487]]\n"
          ]
        }
      ]
    },
    {
      "cell_type": "code",
      "source": [],
      "metadata": {
        "id": "8-QrHRG1zk4h"
      },
      "execution_count": null,
      "outputs": []
    }
  ]
}