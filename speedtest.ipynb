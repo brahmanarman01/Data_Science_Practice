{
  "nbformat": 4,
  "nbformat_minor": 0,
  "metadata": {
    "colab": {
      "provenance": [],
      "authorship_tag": "ABX9TyP8v7kCAf4qSXjaCciHgR7U",
      "include_colab_link": true
    },
    "kernelspec": {
      "name": "python3",
      "display_name": "Python 3"
    },
    "language_info": {
      "name": "python"
    }
  },
  "cells": [
    {
      "cell_type": "markdown",
      "metadata": {
        "id": "view-in-github",
        "colab_type": "text"
      },
      "source": [
        "<a href=\"https://colab.research.google.com/github/brahmanarman01/Data_Science_Practice/blob/Numpy/speedtest.ipynb\" target=\"_parent\"><img src=\"https://colab.research.google.com/assets/colab-badge.svg\" alt=\"Open In Colab\"/></a>"
      ]
    },
    {
      "cell_type": "code",
      "execution_count": null,
      "metadata": {
        "colab": {
          "base_uri": "https://localhost:8080/"
        },
        "id": "POeSEenNNWpF",
        "outputId": "8409695c-775d-4025-f8c4-7e3fa9587332"
      },
      "outputs": [
        {
          "output_type": "stream",
          "name": "stdout",
          "text": [
            "0.09030890464782715\n"
          ]
        }
      ],
      "source": [
        "import numpy as np\n",
        "import time\n",
        "## Using python list\n",
        "size = 1000000\n",
        "l1 = list(range(size))\n",
        "l2 = list(range(size))\n",
        "start = time.time()\n",
        "add = [x+y for x,y in zip(l1,l2)]\n",
        "end = time.time()\n",
        "print(end-start)\n",
        "\n"
      ]
    },
    {
      "cell_type": "code",
      "source": [
        "## Using python np array\n",
        "size = 100000000\n",
        "l1 = np.array(list(range(size)))\n",
        "l2 = np.array(list(range(size)))\n",
        "start = time.time()\n",
        "add = l1+l2\n",
        "end = time.time()\n",
        "print(end-start)"
      ],
      "metadata": {
        "colab": {
          "base_uri": "https://localhost:8080/"
        },
        "id": "A977-uKPO2rm",
        "outputId": "89476d8a-476f-41f9-b0d1-f82f7faccc80"
      },
      "execution_count": null,
      "outputs": [
        {
          "output_type": "stream",
          "name": "stdout",
          "text": [
            "0.3498964309692383\n"
          ]
        }
      ]
    },
    {
      "cell_type": "code",
      "source": [
        "import sys\n",
        "\n",
        "list_data = list(range(1000))\n",
        "numpy_data = np.array(list_data)\n",
        "\n",
        "print(\"Python list size:\", sys.getsizeof(list_data) * len(list_data), \"bytes\")\n",
        "print(\"NumPy array size:\", numpy_data.nbytes, \"bytes\")"
      ],
      "metadata": {
        "colab": {
          "base_uri": "https://localhost:8080/"
        },
        "id": "HmrwochgWkQK",
        "outputId": "4a0bb731-b695-4849-e24d-f05fe904d77a"
      },
      "execution_count": null,
      "outputs": [
        {
          "output_type": "stream",
          "name": "stdout",
          "text": [
            "Python list size: 8056000 bytes\n",
            "NumPy array size: 8000 bytes\n"
          ]
        }
      ]
    }
  ]
}