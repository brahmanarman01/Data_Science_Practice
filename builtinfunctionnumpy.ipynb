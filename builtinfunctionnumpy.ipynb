{
  "nbformat": 4,
  "nbformat_minor": 0,
  "metadata": {
    "colab": {
      "provenance": [],
      "authorship_tag": "ABX9TyNHomr6eHSm8NCwjP1OYug2",
      "include_colab_link": true
    },
    "kernelspec": {
      "name": "python3",
      "display_name": "Python 3"
    },
    "language_info": {
      "name": "python"
    }
  },
  "cells": [
    {
      "cell_type": "markdown",
      "metadata": {
        "id": "view-in-github",
        "colab_type": "text"
      },
      "source": [
        "<a href=\"https://colab.research.google.com/github/brahmanarman01/Data_Science_Practice/blob/Numpy/builtinfunctionnumpy.ipynb\" target=\"_parent\"><img src=\"https://colab.research.google.com/assets/colab-badge.svg\" alt=\"Open In Colab\"/></a>"
      ]
    },
    {
      "cell_type": "code",
      "execution_count": 1,
      "metadata": {
        "id": "0m-Y-RxpgSOI"
      },
      "outputs": [],
      "source": [
        "import numpy as np"
      ]
    },
    {
      "cell_type": "code",
      "source": [
        "arr=np.array([2,3,44,33,5])\n",
        "# result=arr.mean()\n",
        "\n",
        "result=np.mean(arr)\n",
        "print(result)"
      ],
      "metadata": {
        "colab": {
          "base_uri": "https://localhost:8080/"
        },
        "id": "jHRff6pihyMT",
        "outputId": "0e1b5358-6b6c-457d-89af-fd0444ce659b"
      },
      "execution_count": 4,
      "outputs": [
        {
          "output_type": "stream",
          "name": "stdout",
          "text": [
            "17.4\n"
          ]
        }
      ]
    },
    {
      "cell_type": "code",
      "source": [
        "np.min(arr)"
      ],
      "metadata": {
        "colab": {
          "base_uri": "https://localhost:8080/"
        },
        "id": "tG8Z2djyiXEG",
        "outputId": "56fd08d0-1324-45c6-a2bf-f08bd222a3b4"
      },
      "execution_count": 5,
      "outputs": [
        {
          "output_type": "execute_result",
          "data": {
            "text/plain": [
              "np.int64(2)"
            ]
          },
          "metadata": {},
          "execution_count": 5
        }
      ]
    },
    {
      "cell_type": "code",
      "metadata": {
        "colab": {
          "base_uri": "https://localhost:8080/"
        },
        "id": "07379b06",
        "outputId": "ccf3df87-e6e1-4edc-8831-ba7744d73d00"
      },
      "source": [
        "print(np.std(arr))"
      ],
      "execution_count": 6,
      "outputs": [
        {
          "output_type": "stream",
          "name": "stdout",
          "text": [
            "17.6022725805505\n"
          ]
        }
      ]
    },
    {
      "cell_type": "code",
      "metadata": {
        "colab": {
          "base_uri": "https://localhost:8080/"
        },
        "id": "1c28f5a3",
        "outputId": "43c3bdb6-973f-44e1-f2ad-6eb02015fbd6"
      },
      "source": [
        "print(np.var(arr))"
      ],
      "execution_count": 7,
      "outputs": [
        {
          "output_type": "stream",
          "name": "stdout",
          "text": [
            "309.84000000000003\n"
          ]
        }
      ]
    },
    {
      "cell_type": "code",
      "metadata": {
        "colab": {
          "base_uri": "https://localhost:8080/"
        },
        "id": "d57b9bbd",
        "outputId": "87af827b-7f4c-4a55-a0b2-aa12084f27b8"
      },
      "source": [
        "print(np.max(arr))"
      ],
      "execution_count": 8,
      "outputs": [
        {
          "output_type": "stream",
          "name": "stdout",
          "text": [
            "44\n"
          ]
        }
      ]
    },
    {
      "cell_type": "code",
      "metadata": {
        "colab": {
          "base_uri": "https://localhost:8080/"
        },
        "id": "29f35a3c",
        "outputId": "d58faf65-3b37-42f1-b828-8a4969032798"
      },
      "source": [
        "print(np.sum(arr))"
      ],
      "execution_count": 9,
      "outputs": [
        {
          "output_type": "stream",
          "name": "stdout",
          "text": [
            "87\n"
          ]
        }
      ]
    },
    {
      "cell_type": "code",
      "metadata": {
        "colab": {
          "base_uri": "https://localhost:8080/"
        },
        "id": "337e3794",
        "outputId": "98c6098b-4195-4044-9b93-4547832d72c8"
      },
      "source": [
        "print(np.prod(arr))"
      ],
      "execution_count": 10,
      "outputs": [
        {
          "output_type": "stream",
          "name": "stdout",
          "text": [
            "43560\n"
          ]
        }
      ]
    },
    {
      "cell_type": "code",
      "metadata": {
        "colab": {
          "base_uri": "https://localhost:8080/"
        },
        "id": "644ca3c3",
        "outputId": "7f85056c-a933-41c2-a175-7eaa38c0f78a"
      },
      "source": [
        "print(np.median(arr))"
      ],
      "execution_count": 11,
      "outputs": [
        {
          "output_type": "stream",
          "name": "stdout",
          "text": [
            "5.0\n"
          ]
        }
      ]
    },
    {
      "cell_type": "code",
      "metadata": {
        "colab": {
          "base_uri": "https://localhost:8080/"
        },
        "id": "94073b76",
        "outputId": "936707db-20c9-4a81-e771-589b35b95ca2"
      },
      "source": [
        "print(np.percentile(arr, 50))"
      ],
      "execution_count": 12,
      "outputs": [
        {
          "output_type": "stream",
          "name": "stdout",
          "text": [
            "5.0\n"
          ]
        }
      ]
    },
    {
      "cell_type": "code",
      "metadata": {
        "colab": {
          "base_uri": "https://localhost:8080/"
        },
        "id": "b42b682a",
        "outputId": "856e912b-d5d0-45cb-88da-ad788c7a2d7c"
      },
      "source": [
        "print(np.argmin(arr))"
      ],
      "execution_count": 13,
      "outputs": [
        {
          "output_type": "stream",
          "name": "stdout",
          "text": [
            "0\n"
          ]
        }
      ]
    },
    {
      "cell_type": "code",
      "metadata": {
        "colab": {
          "base_uri": "https://localhost:8080/"
        },
        "id": "48098a67",
        "outputId": "e8672e91-d2be-49c4-f668-afb07b588ff0"
      },
      "source": [
        "print(np.argmax(arr))"
      ],
      "execution_count": 14,
      "outputs": [
        {
          "output_type": "stream",
          "name": "stdout",
          "text": [
            "2\n"
          ]
        }
      ]
    },
    {
      "cell_type": "code",
      "metadata": {
        "colab": {
          "base_uri": "https://localhost:8080/"
        },
        "id": "e28a943f",
        "outputId": "e13acb7e-5f41-4e37-d78a-a6ae3ef8373e"
      },
      "source": [
        "print(np.unique(arr))"
      ],
      "execution_count": 15,
      "outputs": [
        {
          "output_type": "stream",
          "name": "stdout",
          "text": [
            "[ 2  3  5 33 44]\n"
          ]
        }
      ]
    },
    {
      "cell_type": "code",
      "metadata": {
        "colab": {
          "base_uri": "https://localhost:8080/"
        },
        "id": "412688e8",
        "outputId": "9d8477a0-0dfd-4768-bc0a-d9b62347d16b"
      },
      "source": [
        "# Compute the n-th differences of an array.\n",
        "print(np.diff(arr))"
      ],
      "execution_count": 16,
      "outputs": [
        {
          "output_type": "stream",
          "name": "stdout",
          "text": [
            "[  1  41 -11 -28]\n"
          ]
        }
      ]
    },
    {
      "cell_type": "code",
      "metadata": {
        "colab": {
          "base_uri": "https://localhost:8080/"
        },
        "id": "2dc4ff91",
        "outputId": "be2b3e88-79d2-4c23-80ce-13b8a8800843"
      },
      "source": [
        "# Compute the cumulative sum of an array.\n",
        "print(np.cumsum(arr))"
      ],
      "execution_count": 17,
      "outputs": [
        {
          "output_type": "stream",
          "name": "stdout",
          "text": [
            "[ 2  5 49 82 87]\n"
          ]
        }
      ]
    },
    {
      "cell_type": "code",
      "metadata": {
        "colab": {
          "base_uri": "https://localhost:8080/"
        },
        "id": "eb5f9b50",
        "outputId": "f0d360be-f86d-4556-8a95-2c4ebda41f0b"
      },
      "source": [
        "# Create an array with evenly spaced numbers over a specified interval.\n",
        "print(np.linspace(0, 10, 5))"
      ],
      "execution_count": 18,
      "outputs": [
        {
          "output_type": "stream",
          "name": "stdout",
          "text": [
            "[ 0.   2.5  5.   7.5 10. ]\n"
          ]
        }
      ]
    },
    {
      "cell_type": "code",
      "metadata": {
        "colab": {
          "base_uri": "https://localhost:8080/"
        },
        "id": "ffecc998",
        "outputId": "170a8080-1566-4550-a192-d7f2ed0538af"
      },
      "source": [
        "# Compute the natural logarithm of an array.\n",
        "print(np.log(arr))"
      ],
      "execution_count": 19,
      "outputs": [
        {
          "output_type": "stream",
          "name": "stdout",
          "text": [
            "[0.69314718 1.09861229 3.78418963 3.49650756 1.60943791]\n"
          ]
        }
      ]
    },
    {
      "cell_type": "code",
      "metadata": {
        "colab": {
          "base_uri": "https://localhost:8080/"
        },
        "id": "0c28c1d2",
        "outputId": "7227b71a-9986-4d35-eb3a-2bd13e6ed401"
      },
      "source": [
        "# Compute the exponential of an array.\n",
        "print(np.exp(arr))"
      ],
      "execution_count": 20,
      "outputs": [
        {
          "output_type": "stream",
          "name": "stdout",
          "text": [
            "[7.38905610e+00 2.00855369e+01 1.28516001e+19 2.14643580e+14\n",
            " 1.48413159e+02]\n"
          ]
        }
      ]
    }
  ]
}